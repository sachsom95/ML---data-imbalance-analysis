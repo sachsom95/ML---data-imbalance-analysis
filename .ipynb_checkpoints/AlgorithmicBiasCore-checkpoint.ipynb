{
 "cells": [
  {
   "cell_type": "markdown",
   "metadata": {},
   "source": [
    "<h1> Algorithmic Bias </h1>\n",
    "<h3> Background Information on data </h3>\n",
    "\n",
    "#### Haberman's Survival Data Set\n",
    "The dataset was dervived from the study conducted by University of Chicago Billings hospital.The data is on the survival of patients who had undergone breast cancer surgery collected from 1958 to 1970\n",
    "\n",
    "|     Charactrestics    |          Data         |\n",
    "|:---------------------:|:---------------------:|\n",
    "| Data Set              |      Multivariate     |\n",
    "| Attribute:            |        Integer        |\n",
    "| Number of Instances:  |          306          |\n",
    "| Number of Attributes: |           3           |\n",
    "| Missing Values?       |           No          |\n",
    "| Assoicated Task       | Classification - Bias |\n",
    "    \n",
    "### Attribute Information:\n",
    "\n",
    "1. Age of patient at time of operation (numerical) \n",
    "2. Patient's year of operation (year - 1900, numerical) \n",
    "3. Number of positive axillary nodes detected (numerical) \n",
    "4. Survival status (class attribute)\n",
    "    <ul>\n",
    "        <li>1 = the patient survived 5 years or longer </li>\n",
    "        <li>2 = the patient died within 5 year </li> </ul>"
   ]
  },
  {
   "cell_type": "markdown",
   "metadata": {},
   "source": [
    "<h2>Part 1 Exploratory Analysis</h2>\n",
    "    <p>Objective</p>\n",
    "    <ol><li>Import all required libraries</li>\n",
    "    <li>Find initial dimension of data</li>\n",
    "        <li>Convert the features to their appropriate data types </li>\n",
    "        <li>See if the data is skewed or not</li>"
   ]
  },
  {
   "cell_type": "markdown",
   "metadata": {},
   "source": [
    "<h3>1.Import libraries</h3>\n",
    "<p> The most important library used is the <b>pandas</b>, this enables the csv to be converted to a pandas datatype and allow data manipulation. <b>Numpy</b> library adds array like functionalities to python for scientific calculations. The visulaization is carried out using <b>Matplotlib</b> and <b>Seaborn</b>. The Counter data structure from collections is used to obtain the count of unique objects in a more efficent manner. Some libraries are not added here as having them imported later with initialization will be easier for readability"
   ]
  },
  {
   "cell_type": "code",
   "execution_count": 794,
   "metadata": {},
   "outputs": [],
   "source": [
    "import numpy as np\n",
    "import pandas as pd\n",
    "from collections import Counter\n",
    "import matplotlib.pyplot as plt\n",
    "\n",
    "from sklearn.neighbors import KNeighborsClassifier\n",
    "from sklearn.metrics import accuracy_score\n",
    "from sklearn.model_selection import train_test_split\n",
    "\n",
    "from sklearn.model_selection import train_test_split\n",
    "from sklearn.metrics import classification_report\n",
    "from sklearn.metrics import confusion_matrix, accuracy_score\n",
    "\n",
    "from sklearn import tree\n",
    "from sklearn.tree import DecisionTreeClassifier\n",
    "\n",
    "from sklearn.linear_model import LogisticRegression\n",
    "\n",
    "from sklearn.metrics import f1_score\n",
    "\n",
    "from sklearn.ensemble import GradientBoostingClassifier\n",
    "\n",
    "\n",
    "from sklearn.metrics import recall_score\n",
    "from sklearn.metrics import precision_score\n",
    "from sklearn.metrics import f1_score\n",
    "\n",
    "\n",
    "from sklearn.model_selection import KFold\n",
    "from sklearn.model_selection import cross_val_predict"
   ]
  },
  {
   "cell_type": "code",
   "execution_count": 795,
   "metadata": {},
   "outputs": [],
   "source": [
    "# Eliminate all warnings\n",
    "import warnings\n",
    "warnings.simplefilter('ignore')"
   ]
  },
  {
   "cell_type": "code",
   "execution_count": 796,
   "metadata": {},
   "outputs": [],
   "source": [
    "df = pd.read_csv('survival.csv')\n",
    "plot = df"
   ]
  },
  {
   "cell_type": "markdown",
   "metadata": {},
   "source": [
    "Peek into the dataframe to get a general sense of what the data looks like. Since we already know from the UCI repository that the data is clea we need not do any imputations or major pre-processing"
   ]
  },
  {
   "cell_type": "code",
   "execution_count": 797,
   "metadata": {},
   "outputs": [
    {
     "data": {
      "text/html": [
       "<div>\n",
       "<style scoped>\n",
       "    .dataframe tbody tr th:only-of-type {\n",
       "        vertical-align: middle;\n",
       "    }\n",
       "\n",
       "    .dataframe tbody tr th {\n",
       "        vertical-align: top;\n",
       "    }\n",
       "\n",
       "    .dataframe thead th {\n",
       "        text-align: right;\n",
       "    }\n",
       "</style>\n",
       "<table border=\"1\" class=\"dataframe\">\n",
       "  <thead>\n",
       "    <tr style=\"text-align: right;\">\n",
       "      <th></th>\n",
       "      <th>Age</th>\n",
       "      <th>Year</th>\n",
       "      <th>NNodes</th>\n",
       "      <th>Class</th>\n",
       "    </tr>\n",
       "  </thead>\n",
       "  <tbody>\n",
       "    <tr>\n",
       "      <th>0</th>\n",
       "      <td>30</td>\n",
       "      <td>64</td>\n",
       "      <td>1</td>\n",
       "      <td>1</td>\n",
       "    </tr>\n",
       "    <tr>\n",
       "      <th>1</th>\n",
       "      <td>30</td>\n",
       "      <td>62</td>\n",
       "      <td>3</td>\n",
       "      <td>1</td>\n",
       "    </tr>\n",
       "    <tr>\n",
       "      <th>2</th>\n",
       "      <td>30</td>\n",
       "      <td>65</td>\n",
       "      <td>0</td>\n",
       "      <td>1</td>\n",
       "    </tr>\n",
       "    <tr>\n",
       "      <th>3</th>\n",
       "      <td>31</td>\n",
       "      <td>59</td>\n",
       "      <td>2</td>\n",
       "      <td>1</td>\n",
       "    </tr>\n",
       "    <tr>\n",
       "      <th>4</th>\n",
       "      <td>31</td>\n",
       "      <td>65</td>\n",
       "      <td>4</td>\n",
       "      <td>1</td>\n",
       "    </tr>\n",
       "  </tbody>\n",
       "</table>\n",
       "</div>"
      ],
      "text/plain": [
       "   Age  Year  NNodes  Class\n",
       "0   30    64       1      1\n",
       "1   30    62       3      1\n",
       "2   30    65       0      1\n",
       "3   31    59       2      1\n",
       "4   31    65       4      1"
      ]
     },
     "execution_count": 797,
     "metadata": {},
     "output_type": "execute_result"
    }
   ],
   "source": [
    "df.head()"
   ]
  },
  {
   "cell_type": "markdown",
   "metadata": {},
   "source": [
    "The <b>class</b> attribute shows wherther a patient lived less than 5 years or more than 5 years after surgery. This feature will be expanded upon to make it more interpretable"
   ]
  },
  {
   "cell_type": "code",
   "execution_count": 798,
   "metadata": {
    "scrolled": true
   },
   "outputs": [
    {
     "data": {
      "text/html": [
       "<div>\n",
       "<style scoped>\n",
       "    .dataframe tbody tr th:only-of-type {\n",
       "        vertical-align: middle;\n",
       "    }\n",
       "\n",
       "    .dataframe tbody tr th {\n",
       "        vertical-align: top;\n",
       "    }\n",
       "\n",
       "    .dataframe thead th {\n",
       "        text-align: right;\n",
       "    }\n",
       "</style>\n",
       "<table border=\"1\" class=\"dataframe\">\n",
       "  <thead>\n",
       "    <tr style=\"text-align: right;\">\n",
       "      <th></th>\n",
       "      <th>Age</th>\n",
       "      <th>Year</th>\n",
       "      <th>NNodes</th>\n",
       "      <th>Class</th>\n",
       "      <th>Survived</th>\n",
       "    </tr>\n",
       "  </thead>\n",
       "  <tbody>\n",
       "    <tr>\n",
       "      <th>0</th>\n",
       "      <td>30</td>\n",
       "      <td>64</td>\n",
       "      <td>1</td>\n",
       "      <td>1</td>\n",
       "      <td>GE5</td>\n",
       "    </tr>\n",
       "    <tr>\n",
       "      <th>1</th>\n",
       "      <td>30</td>\n",
       "      <td>62</td>\n",
       "      <td>3</td>\n",
       "      <td>1</td>\n",
       "      <td>GE5</td>\n",
       "    </tr>\n",
       "    <tr>\n",
       "      <th>2</th>\n",
       "      <td>30</td>\n",
       "      <td>65</td>\n",
       "      <td>0</td>\n",
       "      <td>1</td>\n",
       "      <td>GE5</td>\n",
       "    </tr>\n",
       "    <tr>\n",
       "      <th>3</th>\n",
       "      <td>31</td>\n",
       "      <td>59</td>\n",
       "      <td>2</td>\n",
       "      <td>1</td>\n",
       "      <td>GE5</td>\n",
       "    </tr>\n",
       "    <tr>\n",
       "      <th>4</th>\n",
       "      <td>31</td>\n",
       "      <td>65</td>\n",
       "      <td>4</td>\n",
       "      <td>1</td>\n",
       "      <td>GE5</td>\n",
       "    </tr>\n",
       "  </tbody>\n",
       "</table>\n",
       "</div>"
      ],
      "text/plain": [
       "   Age  Year  NNodes  Class Survived\n",
       "0   30    64       1      1      GE5\n",
       "1   30    62       3      1      GE5\n",
       "2   30    65       0      1      GE5\n",
       "3   31    59       2      1      GE5\n",
       "4   31    65       4      1      GE5"
      ]
     },
     "execution_count": 798,
     "metadata": {},
     "output_type": "execute_result"
    }
   ],
   "source": [
    "df['Survived'] = 'GE5'\n",
    "df.loc[df['Class']==2,'Survived']='L5'\n",
    "df.head()"
   ]
  },
  {
   "cell_type": "markdown",
   "metadata": {},
   "source": [
    "Lets look at the how well the target data is distributed"
   ]
  },
  {
   "cell_type": "code",
   "execution_count": 799,
   "metadata": {
    "scrolled": true
   },
   "outputs": [
    {
     "name": "stdout",
     "output_type": "stream",
     "text": [
      "GE5    225\n",
      "L5      81\n",
      "Name: Survived, dtype: int64\n"
     ]
    },
    {
     "data": {
      "image/png": "[encoded data removed]",
      "text/plain": [
       "<Figure size 576x432 with 1 Axes>"
      ]
     },
     "metadata": {},
     "output_type": "display_data"
    }
   ],
   "source": [
    "print(df['Survived'].value_counts())\n",
    "df['Survived'].value_counts().plot(kind='bar', figsize=(8,6),title=\"Target Value imbalance check.The minority class is only %0.2f percent of data\"%(Counter(df[\"Survived\"])[\"L5\"]/len(df)*100),fontsize=15)\n",
    "plt.grid(b=True, which='major', color='#666666', linestyle='-')\n",
    "plt.minorticks_on()\n",
    "plt.grid(b=True, which='minor', color='#999999', linestyle='-', alpha=0.2)\n"
   ]
  },
  {
   "cell_type": "markdown",
   "metadata": {},
   "source": [
    "Looking at the count for the two classes we can see that the classes are imbalanced\n",
    "<blockquote>Observations</blockquote>\n",
    "<ul>\n",
    "<li>81 data points classified as L5.</li>\n",
    "<li>225 data points classfifed as GE5</li>\n",
    "<li>Minority class only makes 26 percent of the data</li>\n",
    "</ul>\n"
   ]
  },
  {
   "cell_type": "markdown",
   "metadata": {},
   "source": [
    "<h3> Prepration of data for training and evaluvation</h3>\n",
    "In order for training to done we now have to split the dataframe into input and target"
   ]
  },
  {
   "cell_type": "code",
   "execution_count": 800,
   "metadata": {},
   "outputs": [],
   "source": [
    "# o,1 mapping for easier implimentation where positive class will be majority\n",
    "df.loc[df['Survived'] == 'GE5', 'Survived'] = 1\n",
    "df.loc[df['Survived'] == 'L5', 'Survived'] = 0\n",
    "\n",
    "\n",
    "# Seperating to target value\n",
    "y = df.pop('Survived').values\n",
    "# Class attribute is now redundant therefore removing it\n",
    "df.pop('Class')\n",
    "# Training input dataframe\n",
    "X = df.values\n",
    "y=y.astype('int')"
   ]
  },
  {
   "cell_type": "markdown",
   "metadata": {},
   "source": [
    "Initializing some helper functions"
   ]
  },
  {
   "cell_type": "markdown",
   "metadata": {},
   "source": [
    "Creating a helper confusion matrix interface"
   ]
  },
  {
   "cell_type": "code",
   "execution_count": 801,
   "metadata": {},
   "outputs": [],
   "source": [
    "import numpy as np\n",
    "import matplotlib.pyplot as plt\n",
    "from sklearn.utils.multiclass import unique_labels\n",
    "%matplotlib inline\n",
    "\n",
    "def plot_confusion_matrix(y_true, y_pred, classes,\n",
    "                          normalize=False,\n",
    "                          title=None,\n",
    "                          cmap=plt.cm.Blues):\n",
    "    \"\"\"\n",
    "    This function prints and plots the confusion matrix.\n",
    "    Normalization can be applied by setting `normalize=True`.\n",
    "    \"\"\"\n",
    "    if not title:\n",
    "        if normalize:\n",
    "            title = 'Normalized confusion matrix'\n",
    "        else:\n",
    "            title = 'Confusion matrix, without normalization'\n",
    "\n",
    "    # Compute confusion matrix\n",
    "    cm = confusion_matrix(y_true, y_pred)\n",
    "    # Only use the labels that appear in the data\n",
    "    #classes = classes[unique_labels(y_true, y_pred)]\n",
    "    if normalize:\n",
    "        cm = cm.astype('float') / cm.sum(axis=1)[:, np.newaxis]\n",
    "        print(\"Normalized confusion matrix\")\n",
    "    else:\n",
    "        print('Confusion matrix, without normalization')\n",
    "\n",
    "    print(cm)\n",
    "\n",
    "    fig, ax = plt.subplots()\n",
    "    im = ax.imshow(cm, interpolation='nearest', cmap=cmap)\n",
    "    ax.figure.colorbar(im, ax=ax)\n",
    "    # We want to show all ticks...\n",
    "    ax.set(xticks=np.arange(cm.shape[1]),\n",
    "           yticks=np.arange(cm.shape[0]),\n",
    "           # ... and label them with the respective list entries\n",
    "           xticklabels=classes, yticklabels=classes,\n",
    "           title=title,\n",
    "           ylabel='True label',\n",
    "           xlabel='Predicted label')\n",
    "\n",
    "    # Rotate the tick labels and set their alignment.\n",
    "    plt.setp(ax.get_xticklabels(), rotation=45, ha=\"right\",\n",
    "             rotation_mode=\"anchor\")\n",
    "\n",
    "    # Loop over data dimensions and create text annotations.\n",
    "    fmt = '.2f' if normalize else 'd'\n",
    "    thresh = cm.max() / 2.\n",
    "    for i in range(cm.shape[0]):\n",
    "        for j in range(cm.shape[1]):\n",
    "            ax.text(j, i, format(cm[i, j], fmt),\n",
    "                    ha=\"center\", va=\"center\",\n",
    "                    color=\"white\" if cm[i, j] > thresh else \"black\")\n",
    "    fig.tight_layout()\n",
    "    return ax\n",
    "\n",
    "\n",
    "np.set_printoptions(precision=2)\n",
    "\n",
    "plt.show()"
   ]
  },
  {
   "cell_type": "markdown",
   "metadata": {},
   "source": [
    "These are some dictionaries which will store results and gets converted to dataframes later"
   ]
  },
  {
   "cell_type": "code",
   "execution_count": 802,
   "metadata": {},
   "outputs": [],
   "source": [
    "f1_scores = {'models': [],\n",
    "        'f1': [],\n",
    "             'hue_factor':[]\n",
    "        }\n",
    "\n",
    "f1_scores_cv = {'models': [],\n",
    "        'f1': [],\n",
    "             'hue_factor':[]\n",
    "        }\n",
    "\n",
    "\n",
    "cv_holdout = {'models': [],\n",
    "            'hold_out_accuracy': [],\n",
    "            'hold_out_recall':[],\n",
    "          \n",
    "              \n",
    "            'cv_test_accuracy':[],\n",
    "            'cv_predicted_recall':[],\n",
    "           \n",
    "             }"
   ]
  },
  {
   "cell_type": "markdown",
   "metadata": {},
   "source": [
    "# Part 1"
   ]
  },
  {
   "cell_type": "markdown",
   "metadata": {},
   "source": [
    "## Objective\n",
    "\n",
    "<p> In this section since we have done the data prepration and some EDA, We will go about training the models and see how they perform. We will train four models they are </p>\n",
    "\n",
    "<ul>\n",
    "    <li> K-NN </li>\n",
    "    <li> Decesion Tree </li>\n",
    "    <li> Logistic Regression </li>\n",
    "    <li> Gradient boosting </li>\n",
    "</ul>\n",
    "\n",
    "The first objective will be to see how the model performs with <b> Hold-out</b> evaluvation and to see if there is a bias towards majority class. The reason why we have to check for bias is because of the highly imabalnaced dataset. Next we will try the same model with cross-validation and see if we are able to gain some insights.\n",
    "\n",
    "### Metrics used for confirming hypothesis\n",
    "\n",
    "The first hypothesis we have is that  the models trained on the dataset is going to be highly bias towards the majority class. To see if this hypothesis is true or not we can check for number of measures. The most obvious one is to measure percentage of minority class in test set vs the predicted minority class. If the prediction value is low it means the model is not predicting enough negative classes, However, This metric has some flaws. It doesn't tell if the model prediction of negative classes is a true negative or not. Therefor inorder to see the bias in our model and to see how model is performing we will use <b>F1-score</b>and <b> Recall </b>\n",
    "<br><br>\n",
    "The best way to explain recall is with an example. Lets say we have 100 patients and 20 patients have cancer. If our model detects 20 patents to have cancer and they are true positives it means that we have a recall of 1. So recall in our case will be the ration of number of target values detected which is correct to total number of target values in our test test. Thus a low recall means we are not detecting enough of that particular class. For sake of simplicity I will use F1 score for plot as a lower F1 score also indicates a poor recall. "
   ]
  },
  {
   "cell_type": "markdown",
   "metadata": {},
   "source": [
    "## $k$-NN\n",
    "\n",
    "The first model we will train is K-NN.We will first try to see how well KNN perorms with given data. A hold out of 50 percent will be used as we want to see if the minority class is being detected.  "
   ]
  },
  {
   "cell_type": "code",
   "execution_count": 803,
   "metadata": {
    "scrolled": true
   },
   "outputs": [
    {
     "name": "stdout",
     "output_type": "stream",
     "text": [
      "Accuracy of KNN is at:  77.12% \n",
      "Minority class in test set : 0.24\n",
      "Predicted minority class : 0.16\n"
     ]
    }
   ],
   "source": [
    "kNN = KNeighborsClassifier(n_neighbors=3)\n",
    "X_train, X_test, y_train, y_test = train_test_split(X, y, test_size = 1/2, random_state=42)\n",
    "y_pred = kNN.fit(X_train, y_train).predict(X_test)\n",
    "\n",
    "print(f'Accuracy of KNN is at:  {accuracy_score(y_pred, y_test)*100:.2f}% ')\n",
    "pred_neg = Counter(y_pred)[0]\n",
    "test_neg = Counter(y_test)[0]\n",
    "print(\"Minority class in test set : %0.2f\" % (test_neg/len(y_test)))\n",
    "print(\"Predicted minority class : %0.2f\" % (pred_neg/len(y_pred)))\n",
    "cv_holdout[\"models\"].append(\"KNN\")\n",
    "cv_holdout[\"hold_out_accuracy\"].append(accuracy_score(y_pred, y_test))\n",
    "cv_holdout[\"hold_out_recall\"].append((recall_score(y_test, y_pred, pos_label=0)))"
   ]
  },
  {
   "cell_type": "markdown",
   "metadata": {},
   "source": [
    "We can see that accuracy of the classifier is at 77 percent however this will not give a full picture as we are dealing with an imbalanced dataset. To see how well the minority classes are predicted we need to take a look at precision and recall."
   ]
  },
  {
   "cell_type": "code",
   "execution_count": 804,
   "metadata": {},
   "outputs": [
    {
     "name": "stdout",
     "output_type": "stream",
     "text": [
      "Confusion matrix, without normalization\n",
      "[[ 13  23]\n",
      " [ 12 105]]\n"
     ]
    },
    {
     "data": {
      "text/plain": [
       "<matplotlib.axes._subplots.AxesSubplot at 0x7f959c068750>"
      ]
     },
     "execution_count": 804,
     "metadata": {},
     "output_type": "execute_result"
    },
    {
     "data": {
      "image/png": "[encoded data removed]",
      "text/plain": [
       "<Figure size 432x288 with 2 Axes>"
      ]
     },
     "metadata": {
      "needs_background": "light"
     },
     "output_type": "display_data"
    }
   ],
   "source": [
    "plot_confusion_matrix(y_test, y_pred, classes=[\"L5\",\"GE5\"],\n",
    "                      title='Confusion matrix, without normalization')"
   ]
  },
  {
   "cell_type": "markdown",
   "metadata": {},
   "source": [
    "The confusion matrix has given us a really good understanding of the model\n",
    "<blockquote>\n",
    "    <ul>\n",
    "        <li> The total number of actual negative data(minority class) points in test set is 36 </li>\n",
    "        <li> Total number of positive data(majority) in test set is 117 </li>\n",
    "        <li> The model was able to correctly classify 13 negative data points out of 36</li>\n",
    "        <li> Of the 25 it identified as negative 12 where wrong </li>\n",
    "        <li> There are 117 positive data points and model identified 128 points as positive indicating a bias towards positve data </li>\n",
    "    </ul>    \n",
    "    \n",
    "</blockquote>\n",
    "\n",
    "To quantify the effects we need to use precision and recall"
   ]
  },
  {
   "cell_type": "code",
   "execution_count": 805,
   "metadata": {
    "scrolled": false
   },
   "outputs": [
    {
     "name": "stdout",
     "output_type": "stream",
     "text": [
      "Report:\n",
      "              precision    recall  f1-score   support\n",
      "\n",
      "           0       0.52      0.36      0.43        36\n",
      "           1       0.82      0.90      0.86       117\n",
      "\n",
      "    accuracy                           0.77       153\n",
      "   macro avg       0.67      0.63      0.64       153\n",
      "weighted avg       0.75      0.77      0.76       153\n",
      "\n"
     ]
    }
   ],
   "source": [
    "report = classification_report(y_test, y_pred)\n",
    "print(\"Report:\\n{}\".format(report)) "
   ]
  },
  {
   "cell_type": "markdown",
   "metadata": {},
   "source": [
    "<blockquote> Observations for Majority Class </blockquote>\n",
    "<ul>\n",
    "    <li> The precesion for majority class is .82 which means of all the prediction the model said was positve 82 percent of it was actually positive. <br>A recall of .90 means of the positive data points we detected 90 percent of them</li>\n",
    "</ul>\n",
    "        \n",
    "<blockquote> Observations for Minority Class </blockquote>\n",
    "<ul>\n",
    "    <li> The recall of the minority class is only at .36 which means of all the negative data points we only detected 36 percent of them</li>\n",
    "    <li>The low recall value indicates that the model is having difficulty identifying the minority classes</li>\n",
    "    \n",
    "</ul>\n",
    "\n",
    "We will use the F1 Score to quatify the perfomance into a single number"
   ]
  },
  {
   "cell_type": "markdown",
   "metadata": {},
   "source": [
    "Storing all the required scores for compiling later"
   ]
  },
  {
   "cell_type": "code",
   "execution_count": 806,
   "metadata": {},
   "outputs": [],
   "source": [
    "f1_scores[\"models\"].append(\"K-NN\")\n",
    "f1_scores[\"f1\"].append(f1_score(y_test, y_pred, pos_label=1))\n",
    "f1_scores[\"hue_factor\"].append(1)\n",
    "# --------0-------\n",
    "f1_scores[\"models\"].append(\"K-NN\")\n",
    "f1_scores[\"f1\"].append(f1_score(y_test, y_pred, pos_label=0))\n",
    "f1_scores[\"hue_factor\"].append(0)"
   ]
  },
  {
   "cell_type": "markdown",
   "metadata": {},
   "source": [
    "Now that we have got all the perfomance matric for KNN we will repeat the same porcess for all the other models while keeping the same hold-out"
   ]
  },
  {
   "cell_type": "markdown",
   "metadata": {},
   "source": [
    "# Decision Tree"
   ]
  },
  {
   "cell_type": "code",
   "execution_count": 807,
   "metadata": {},
   "outputs": [
    {
     "name": "stdout",
     "output_type": "stream",
     "text": [
      "Accuracy of Decision tree is at:  64.05% \n",
      "Minority class in test set : 0.24\n",
      "Predicted minority class : 0.29\n"
     ]
    }
   ],
   "source": [
    "dtree = DecisionTreeClassifier(criterion=\"entropy\")\n",
    "y_pred = dtree.fit(X_train, y_train).predict(X_test)\n",
    "\n",
    "print(f'Accuracy of Decision tree is at:  {accuracy_score(y_pred, y_test)*100:.2f}% ')\n",
    "pred_neg = Counter(y_pred)[0]\n",
    "test_neg = Counter(y_test)[0]\n",
    "print(\"Minority class in test set : %0.2f\" % (test_neg/len(y_test)))\n",
    "print(\"Predicted minority class : %0.2f\" % (pred_neg/len(y_pred)))\n",
    "cv_holdout[\"models\"].append(\"DecisionTreeClassifier\")\n",
    "cv_holdout[\"hold_out_accuracy\"].append(accuracy_score(y_pred, y_test))\n",
    "cv_holdout[\"hold_out_recall\"].append((recall_score(y_test, y_pred, pos_label=0)))"
   ]
  },
  {
   "cell_type": "code",
   "execution_count": 808,
   "metadata": {},
   "outputs": [
    {
     "name": "stdout",
     "output_type": "stream",
     "text": [
      "Confusion matrix, without normalization\n",
      "[[13 23]\n",
      " [32 85]]\n"
     ]
    },
    {
     "data": {
      "text/plain": [
       "<matplotlib.axes._subplots.AxesSubplot at 0x7f959c101290>"
      ]
     },
     "execution_count": 808,
     "metadata": {},
     "output_type": "execute_result"
    },
    {
     "data": {
      "image/png": "[encoded data removed]",
      "text/plain": [
       "<Figure size 432x288 with 2 Axes>"
      ]
     },
     "metadata": {
      "needs_background": "light"
     },
     "output_type": "display_data"
    }
   ],
   "source": [
    "plot_confusion_matrix(y_test, y_pred, classes=[\"L5\",\"GE5\"],\n",
    "                      title='Confusion matrix, without normalization')"
   ]
  },
  {
   "cell_type": "code",
   "execution_count": 809,
   "metadata": {},
   "outputs": [
    {
     "name": "stdout",
     "output_type": "stream",
     "text": [
      "Report:\n",
      "              precision    recall  f1-score   support\n",
      "\n",
      "           0       0.29      0.36      0.32        36\n",
      "           1       0.79      0.73      0.76       117\n",
      "\n",
      "    accuracy                           0.64       153\n",
      "   macro avg       0.54      0.54      0.54       153\n",
      "weighted avg       0.67      0.64      0.65       153\n",
      "\n"
     ]
    }
   ],
   "source": [
    "report = classification_report(y_test, y_pred)\n",
    "print(\"Report:\\n{}\".format(report)) "
   ]
  },
  {
   "cell_type": "markdown",
   "metadata": {},
   "source": [
    "Saving the metrics obtained for later"
   ]
  },
  {
   "cell_type": "code",
   "execution_count": 810,
   "metadata": {},
   "outputs": [],
   "source": [
    "f1_scores[\"models\"].append(\"Decision tree\")\n",
    "f1_scores[\"f1\"].append(f1_score(y_test, y_pred, pos_label=1))\n",
    "f1_scores[\"hue_factor\"].append(1)\n",
    "# --------0-------\n",
    "f1_scores[\"models\"].append(\"Decision tree\")\n",
    "f1_scores[\"f1\"].append(f1_score(y_test, y_pred, pos_label=0))\n",
    "f1_scores[\"hue_factor\"].append(0)"
   ]
  },
  {
   "cell_type": "markdown",
   "metadata": {},
   "source": [
    "# Logistic Regression"
   ]
  },
  {
   "cell_type": "code",
   "execution_count": 811,
   "metadata": {},
   "outputs": [
    {
     "name": "stdout",
     "output_type": "stream",
     "text": [
      "Accuracy of Decision tree is at:  77.78% \n",
      "Minority class in test set : 0.24\n",
      "Predicted minority class : 0.07\n"
     ]
    }
   ],
   "source": [
    "Lregr = LogisticRegression(random_state=0)\n",
    "y_pred = Lregr.fit(X_train, y_train).predict(X_test)\n",
    "\n",
    "print(f'Accuracy of Decision tree is at:  {accuracy_score(y_pred, y_test)*100:.2f}% ')\n",
    "\n",
    "pred_neg = Counter(y_pred)[0]\n",
    "test_neg = Counter(y_test)[0]\n",
    "\n",
    "print(\"Minority class in test set : %0.2f\" % (test_neg/len(y_test)))\n",
    "print(\"Predicted minority class : %0.2f\" % (pred_neg/len(y_pred)))\n",
    "\n",
    "cv_holdout[\"models\"].append(\"LogisticRegression\")\n",
    "cv_holdout[\"hold_out_accuracy\"].append(accuracy_score(y_pred, y_test))\n",
    "cv_holdout[\"hold_out_recall\"].append((recall_score(y_test, y_pred, pos_label=0)))"
   ]
  },
  {
   "cell_type": "code",
   "execution_count": 812,
   "metadata": {},
   "outputs": [
    {
     "name": "stdout",
     "output_type": "stream",
     "text": [
      "Confusion matrix, without normalization\n",
      "[[  6  30]\n",
      " [  4 113]]\n"
     ]
    },
    {
     "data": {
      "text/plain": [
       "<matplotlib.axes._subplots.AxesSubplot at 0x7f959c7bddd0>"
      ]
     },
     "execution_count": 812,
     "metadata": {},
     "output_type": "execute_result"
    },
    {
     "data": {
      "image/png": "[encoded data removed]",
      "text/plain": [
       "<Figure size 432x288 with 2 Axes>"
      ]
     },
     "metadata": {
      "needs_background": "light"
     },
     "output_type": "display_data"
    }
   ],
   "source": [
    "plot_confusion_matrix(y_test, y_pred, classes=[\"L5\",\"GE5\"],\n",
    "                      title='Confusion matrix, without normalization')"
   ]
  },
  {
   "cell_type": "code",
   "execution_count": 813,
   "metadata": {},
   "outputs": [
    {
     "name": "stdout",
     "output_type": "stream",
     "text": [
      "Report:\n",
      "              precision    recall  f1-score   support\n",
      "\n",
      "           0       0.60      0.17      0.26        36\n",
      "           1       0.79      0.97      0.87       117\n",
      "\n",
      "    accuracy                           0.78       153\n",
      "   macro avg       0.70      0.57      0.57       153\n",
      "weighted avg       0.75      0.78      0.73       153\n",
      "\n"
     ]
    }
   ],
   "source": [
    "report = classification_report(y_test, y_pred)\n",
    "print(\"Report:\\n{}\".format(report)) "
   ]
  },
  {
   "cell_type": "markdown",
   "metadata": {},
   "source": [
    "Saving metric collected"
   ]
  },
  {
   "cell_type": "code",
   "execution_count": 814,
   "metadata": {},
   "outputs": [],
   "source": [
    "f1_scores[\"models\"].append(\"Logistic Regression\")\n",
    "f1_scores[\"f1\"].append(f1_score(y_test, y_pred, pos_label=1))\n",
    "f1_scores[\"hue_factor\"].append(1)\n",
    "# --------0-------\n",
    "f1_scores[\"models\"].append(\"Logistic Regression\")\n",
    "f1_scores[\"f1\"].append(f1_score(y_test, y_pred, pos_label=0))\n",
    "f1_scores[\"hue_factor\"].append(0)"
   ]
  },
  {
   "cell_type": "markdown",
   "metadata": {},
   "source": [
    "# Gradient Boosting"
   ]
  },
  {
   "cell_type": "code",
   "execution_count": 815,
   "metadata": {},
   "outputs": [
    {
     "name": "stdout",
     "output_type": "stream",
     "text": [
      "Accuracy of Decision tree is at:  69.93% \n",
      "Minority class in test set : 0.24\n",
      "Predicted minority class : 0.24\n"
     ]
    }
   ],
   "source": [
    "gboost = GradientBoostingClassifier(random_state=0)\n",
    "y_pred = gboost.fit(X_train, y_train).predict(X_test)\n",
    "\n",
    "print(f'Accuracy of Decision tree is at:  {accuracy_score(y_pred, y_test)*100:.2f}% ')\n",
    "\n",
    "pred_neg = Counter(y_pred)[0]\n",
    "test_neg = Counter(y_test)[0]\n",
    "\n",
    "print(\"Minority class in test set : %0.2f\" % (test_neg/len(y_test)))\n",
    "print(\"Predicted minority class : %0.2f\" % (pred_neg/len(y_pred)))\n",
    "\n",
    "\n",
    "cv_holdout[\"models\"].append(\"GradientBoostingClassifier\")\n",
    "cv_holdout[\"hold_out_accuracy\"].append(accuracy_score(y_pred, y_test))\n",
    "cv_holdout[\"hold_out_recall\"].append((recall_score(y_test, y_pred, pos_label=0)))"
   ]
  },
  {
   "cell_type": "code",
   "execution_count": 816,
   "metadata": {},
   "outputs": [
    {
     "name": "stdout",
     "output_type": "stream",
     "text": [
      "Confusion matrix, without normalization\n",
      "[[13 23]\n",
      " [23 94]]\n"
     ]
    },
    {
     "data": {
      "text/plain": [
       "<matplotlib.axes._subplots.AxesSubplot at 0x7f959c8d2c50>"
      ]
     },
     "execution_count": 816,
     "metadata": {},
     "output_type": "execute_result"
    },
    {
     "data": {
      "image/png": "[encoded data removed]",
      "text/plain": [
       "<Figure size 432x288 with 2 Axes>"
      ]
     },
     "metadata": {
      "needs_background": "light"
     },
     "output_type": "display_data"
    }
   ],
   "source": [
    "plot_confusion_matrix(y_test, y_pred, classes=[\"L5\",\"GE5\"],\n",
    "                      title='Confusion matrix, without normalization')"
   ]
  },
  {
   "cell_type": "code",
   "execution_count": 817,
   "metadata": {
    "scrolled": true
   },
   "outputs": [
    {
     "name": "stdout",
     "output_type": "stream",
     "text": [
      "Report:\n",
      "              precision    recall  f1-score   support\n",
      "\n",
      "           0       0.36      0.36      0.36        36\n",
      "           1       0.80      0.80      0.80       117\n",
      "\n",
      "    accuracy                           0.70       153\n",
      "   macro avg       0.58      0.58      0.58       153\n",
      "weighted avg       0.70      0.70      0.70       153\n",
      "\n"
     ]
    }
   ],
   "source": [
    "report = classification_report(y_test, y_pred)\n",
    "print(\"Report:\\n{}\".format(report)) "
   ]
  },
  {
   "cell_type": "code",
   "execution_count": 818,
   "metadata": {},
   "outputs": [],
   "source": [
    "f1_scores[\"models\"].append(\"Gradient Boosting\")\n",
    "f1_scores[\"f1\"].append(f1_score(y_test, y_pred, pos_label=1))\n",
    "f1_scores[\"hue_factor\"].append(1)\n",
    "# --------0-------\n",
    "f1_scores[\"models\"].append(\"Gradient Boosting\")\n",
    "f1_scores[\"f1\"].append(f1_score(y_test, y_pred, pos_label=0))\n",
    "f1_scores[\"hue_factor\"].append(0)"
   ]
  },
  {
   "cell_type": "code",
   "execution_count": 819,
   "metadata": {},
   "outputs": [],
   "source": [
    "f1_scores = pd.DataFrame(f1_scores, columns = ['models', 'f1','hue_factor'])"
   ]
  },
  {
   "cell_type": "code",
   "execution_count": null,
   "metadata": {},
   "outputs": [],
   "source": []
  },
  {
   "cell_type": "markdown",
   "metadata": {},
   "source": [
    "# Part 1 Observations "
   ]
  },
  {
   "cell_type": "markdown",
   "metadata": {},
   "source": [
    "### Hypothesis\n",
    "Our Hypothesis was that for the given dataset. All the models will be biased towards the majority class. We proposed to use F1 scores as stated earlier for evaluvating the hypothesis. We will now use a grouped bar chart which will Plot the F1 Scores of each model as a pair of F1 scores for majority and minority classes"
   ]
  },
  {
   "cell_type": "code",
   "execution_count": 820,
   "metadata": {
    "scrolled": true
   },
   "outputs": [
    {
     "data": {
      "image/png": "[encoded data removed]",
      "text/plain": [
       "<Figure size 497.55x432 with 1 Axes>"
      ]
     },
     "metadata": {},
     "output_type": "display_data"
    }
   ],
   "source": [
    "%matplotlib inline\n",
    "import seaborn as sns\n",
    "sns.set_theme(style=\"whitegrid\")\n",
    "\n",
    "\n",
    "# Draw a nested barplot by F1 scores\n",
    "g = sns.catplot(\n",
    "    data=f1_scores, kind=\"bar\",\n",
    "    x=\"models\", y=\"f1\", hue=\"hue_factor\",\n",
    "    ci=\"sd\", palette=\"dark\", alpha=.6, height=6,legend_out = True\n",
    ")\n",
    "new_labels = ['Minority', 'Majority']\n",
    "for t, l in zip(g._legend.texts, new_labels): t.set_text(l)\n",
    "g.despine(left=True)\n",
    "g.set_axis_labels(\"\", \"F1 Scores\")\n",
    "g.legend.set_title(\"class\")"
   ]
  },
  {
   "cell_type": "markdown",
   "metadata": {},
   "source": [
    "From the compiled results we can see a trend. We can observe that for each model the F1 scores are extremely low for minority class. This observation validates our hypothesis that the models are indeed <b> biased to majority class</b> "
   ]
  },
  {
   "cell_type": "markdown",
   "metadata": {},
   "source": [
    "Apart from the bias it looks like most of the models performed similarly for the most part. Since accuarcy will not be a suitable indicator of which model is better than other we will use <b>precision</b> and <b>recall</b>. The worst performer seems to be the decision tree which while the models such as logistic regression seems to be slightly better in this case. "
   ]
  },
  {
   "cell_type": "markdown",
   "metadata": {},
   "source": []
  },
  {
   "cell_type": "markdown",
   "metadata": {},
   "source": [
    "# Part 1.2\n",
    "## Objective\n",
    "The next objective is to see if we can get better results if we do Cross-validation instead of Hold-out testing. So we will repeat the model evaluvation again and try to see if the bias still exist or not. And then do a comparison of all the models trained using holdout and cross validation\n",
    "\n",
    "### Hypothesis\n",
    "\n",
    "This time the hypothesis is that we are expected to see a similar trend of model bias but its expected to be better than hold out. This is because in cross validation our model gets to train with more data hence better perfomance.\n",
    "\n",
    "\n",
    "\n"
   ]
  },
  {
   "cell_type": "markdown",
   "metadata": {},
   "source": [
    "container for holding all the matric collected"
   ]
  },
  {
   "cell_type": "code",
   "execution_count": 821,
   "metadata": {},
   "outputs": [],
   "source": [
    "f1_scores_cv = {'models': [],\n",
    "        'f1': [],\n",
    "             'hue_factor':[]\n",
    "        }"
   ]
  },
  {
   "cell_type": "markdown",
   "metadata": {},
   "source": [
    "Compared to previous examples where we manually went through each models. Here we will use an iterator to go through each model and do cross validation and get results"
   ]
  },
  {
   "cell_type": "code",
   "execution_count": 822,
   "metadata": {},
   "outputs": [
    {
     "name": "stdout",
     "output_type": "stream",
     "text": [
      "Model: KNeighborsClassifier\n",
      "              precision    recall  f1-score   support\n",
      "\n",
      "           0       0.43      0.37      0.40        81\n",
      "           1       0.78      0.82      0.80       225\n",
      "\n",
      "    accuracy                           0.70       306\n",
      "   macro avg       0.61      0.60      0.60       306\n",
      "weighted avg       0.69      0.70      0.70       306\n",
      "\n",
      "--------------------------------\n",
      "Model: LogisticRegression\n",
      "              precision    recall  f1-score   support\n",
      "\n",
      "           0       0.52      0.15      0.23        81\n",
      "           1       0.76      0.95      0.84       225\n",
      "\n",
      "    accuracy                           0.74       306\n",
      "   macro avg       0.64      0.55      0.54       306\n",
      "weighted avg       0.69      0.74      0.68       306\n",
      "\n",
      "--------------------------------\n",
      "Model: GradientBoostingClassifier\n",
      "              precision    recall  f1-score   support\n",
      "\n",
      "           0       0.40      0.28      0.33        81\n",
      "           1       0.77      0.84      0.80       225\n",
      "\n",
      "    accuracy                           0.70       306\n",
      "   macro avg       0.58      0.56      0.57       306\n",
      "weighted avg       0.67      0.70      0.68       306\n",
      "\n",
      "--------------------------------\n",
      "Model: DecisionTreeClassifier\n",
      "              precision    recall  f1-score   support\n",
      "\n",
      "           0       0.37      0.43      0.40        81\n",
      "           1       0.78      0.74      0.76       225\n",
      "\n",
      "    accuracy                           0.66       306\n",
      "   macro avg       0.58      0.58      0.58       306\n",
      "weighted avg       0.67      0.66      0.66       306\n",
      "\n",
      "--------------------------------\n"
     ]
    }
   ],
   "source": [
    "kNN = KNeighborsClassifier(n_neighbors=3)\n",
    "Lregr = LogisticRegression(random_state=0)\n",
    "gboost = GradientBoostingClassifier(random_state=0)\n",
    "dtree = DecisionTreeClassifier(criterion='entropy')\n",
    "\n",
    "\n",
    "# Define the classifier\n",
    "classifier = [kNN,Lregr,gboost,dtree]\n",
    "\n",
    "# KFold cross validation\n",
    "cv = KFold(n_splits=10)\n",
    "\n",
    "for classifier in classifier:\n",
    "    y_pred = cross_val_predict(classifier, X, y, cv = cv)\n",
    "    print(f\"Model: {type(classifier).__name__}\")\n",
    "    print(classification_report(y, y_pred))\n",
    "    print(\"--------------------------------\")\n",
    "    f1_scores_cv[\"models\"].append(type(classifier).__name__)\n",
    "    f1_scores_cv[\"f1\"].append(f1_score(y, y_pred, pos_label=1))\n",
    "    f1_scores_cv[\"hue_factor\"].append(1)\n",
    "#     --------0-------\n",
    "    f1_scores_cv[\"models\"].append(type(classifier).__name__)\n",
    "    f1_scores_cv[\"f1\"].append(f1_score(y, y_pred, pos_label=0))\n",
    "    f1_scores_cv[\"hue_factor\"].append(0)\n",
    "    \n",
    "#     ---------\n",
    "\n",
    "    \n",
    "    cv_holdout[\"cv_test_accuracy\"].append(accuracy_score(y_pred, y))\n",
    "    cv_holdout[\"cv_predicted_recall\"].append((recall_score(y, y_pred, pos_label=0)))"
   ]
  },
  {
   "cell_type": "code",
   "execution_count": 823,
   "metadata": {},
   "outputs": [],
   "source": [
    "f1_scores_cv = pd.DataFrame(f1_scores_cv, columns = ['models', 'f1','hue_factor'])"
   ]
  },
  {
   "cell_type": "code",
   "execution_count": 824,
   "metadata": {},
   "outputs": [
    {
     "data": {
      "text/plain": [
       "<seaborn.axisgrid.FacetGrid at 0x7f959aee8fd0>"
      ]
     },
     "execution_count": 824,
     "metadata": {},
     "output_type": "execute_result"
    },
    {
     "data": {
      "image/png": "[encoded data removed]",
      "text/plain": [
       "<Figure size 497.55x432 with 1 Axes>"
      ]
     },
     "metadata": {},
     "output_type": "display_data"
    }
   ],
   "source": [
    "\n",
    "import seaborn as sns\n",
    "sns.set_theme(style=\"whitegrid\")\n",
    "\n",
    "\n",
    "# Draw a nested barplot by F1 scores\n",
    "g = sns.catplot(\n",
    "    data=f1_scores_cv, kind=\"bar\",\n",
    "    x=\"models\", y=\"f1\", hue=\"hue_factor\",\n",
    "    ci=\"sd\", palette=\"dark\", alpha=.6, height=6,legend_out = True\n",
    ")\n",
    "new_labels = ['Minority', 'Majority']\n",
    "for t, l in zip(g._legend.texts, new_labels): t.set_text(l)\n",
    "g.despine(left=True)\n",
    "g.set_axis_labels(\"\", \"F1 Scores\")\n",
    "g.legend.set_title(\"class\")\n",
    "g.set_xticklabels(rotation=30)"
   ]
  },
  {
   "cell_type": "markdown",
   "metadata": {},
   "source": [
    "## Observation"
   ]
  },
  {
   "cell_type": "markdown",
   "metadata": {},
   "source": [
    "### Hypothesis\n",
    "The hypothesis was that given that we are dealing with unbalanced dataset we will experience a bias towards majority classifer. Looking at the plot of F1 scores of each classifer with respect to the classes. we can see the same trends we observed previously the F1 score for minority class is always less than the other indicating that the model is unable to perform well for minority classes. If we look at recall scores we can see that the minority class is not being predicted hence indicating the bias and validating the hypothesis \n"
   ]
  },
  {
   "cell_type": "code",
   "execution_count": 825,
   "metadata": {},
   "outputs": [],
   "source": [
    "cv_holdout = pd.DataFrame(cv_holdout, columns = ['models', 'hold_out_accuracy','cv_test_accuracy','hold_out_recall','cv_predicted_recall'])"
   ]
  },
  {
   "cell_type": "markdown",
   "metadata": {},
   "source": [
    "### Hypothesis 2\n",
    "\n",
    "The next hypothesis was that cross validation will perform better than holdout as we train on more data while using hold-out we tend to have less data for training. Hence in our case since the data set is small it may have an impact. \n",
    "\n",
    "For this the result will be compiled as a table rather than as graph as the observations are easier to comprehend in this way for our given data.\n",
    "\n"
   ]
  },
  {
   "cell_type": "markdown",
   "metadata": {},
   "source": [
    "Creating the result table"
   ]
  },
  {
   "cell_type": "code",
   "execution_count": 826,
   "metadata": {
    "scrolled": true
   },
   "outputs": [
    {
     "data": {
      "text/html": [
       "<div>\n",
       "<style scoped>\n",
       "    .dataframe tbody tr th:only-of-type {\n",
       "        vertical-align: middle;\n",
       "    }\n",
       "\n",
       "    .dataframe tbody tr th {\n",
       "        vertical-align: top;\n",
       "    }\n",
       "\n",
       "    .dataframe thead th {\n",
       "        text-align: right;\n",
       "    }\n",
       "</style>\n",
       "<table border=\"1\" class=\"dataframe\">\n",
       "  <thead>\n",
       "    <tr style=\"text-align: right;\">\n",
       "      <th></th>\n",
       "      <th>models</th>\n",
       "      <th>hold_out_accuracy</th>\n",
       "      <th>cv_test_accuracy</th>\n",
       "      <th>hold_out_recall</th>\n",
       "      <th>cv_predicted_recall</th>\n",
       "    </tr>\n",
       "  </thead>\n",
       "  <tbody>\n",
       "    <tr>\n",
       "      <th>0</th>\n",
       "      <td>KNN</td>\n",
       "      <td>0.771242</td>\n",
       "      <td>0.702614</td>\n",
       "      <td>0.361111</td>\n",
       "      <td>0.370370</td>\n",
       "    </tr>\n",
       "    <tr>\n",
       "      <th>1</th>\n",
       "      <td>DecisionTreeClassifier</td>\n",
       "      <td>0.640523</td>\n",
       "      <td>0.738562</td>\n",
       "      <td>0.361111</td>\n",
       "      <td>0.148148</td>\n",
       "    </tr>\n",
       "    <tr>\n",
       "      <th>2</th>\n",
       "      <td>LogisticRegression</td>\n",
       "      <td>0.777778</td>\n",
       "      <td>0.696078</td>\n",
       "      <td>0.166667</td>\n",
       "      <td>0.283951</td>\n",
       "    </tr>\n",
       "    <tr>\n",
       "      <th>3</th>\n",
       "      <td>GradientBoostingClassifier</td>\n",
       "      <td>0.699346</td>\n",
       "      <td>0.656863</td>\n",
       "      <td>0.361111</td>\n",
       "      <td>0.432099</td>\n",
       "    </tr>\n",
       "  </tbody>\n",
       "</table>\n",
       "</div>"
      ],
      "text/plain": [
       "                       models  hold_out_accuracy  cv_test_accuracy  \\\n",
       "0                         KNN           0.771242          0.702614   \n",
       "1      DecisionTreeClassifier           0.640523          0.738562   \n",
       "2          LogisticRegression           0.777778          0.696078   \n",
       "3  GradientBoostingClassifier           0.699346          0.656863   \n",
       "\n",
       "   hold_out_recall  cv_predicted_recall  \n",
       "0         0.361111             0.370370  \n",
       "1         0.361111             0.148148  \n",
       "2         0.166667             0.283951  \n",
       "3         0.361111             0.432099  "
      ]
     },
     "execution_count": 826,
     "metadata": {},
     "output_type": "execute_result"
    }
   ],
   "source": [
    "cv_holdout"
   ]
  },
  {
   "cell_type": "markdown",
   "metadata": {},
   "source": [
    "Looking at the results of the holdout and cross validation we can see the following results\n",
    "<ul>\n",
    "    <li> We do dont see any major differences between the results of cross validation and holdout </li>\n",
    "    <li> The crossvalidated model seems to have slightly better recall compared to hold out modes except in logistic regression </li>\n",
    "    <li> The accuracy of cross validation seems to be genrally lower than holdout. This doesn't mean that mold out is better recall which means we have less false positives and false negatives in cross validated model</li>\n",
    " </ul>   \n",
    " <blockquote> Note <br> The table shows only slight changes in accuracy or recall between both the evaluvation this might be due to the small size of the dataset</blockquote>"
   ]
  },
  {
   "cell_type": "markdown",
   "metadata": {},
   "source": [
    "# Part 2"
   ]
  },
  {
   "cell_type": "markdown",
   "metadata": {},
   "source": [
    "# Objective\n",
    "\n",
    "In this section we will try to rectify the issue of imbalance dataset. We propose 3 strategies.\n",
    "\n",
    "<ul>\n",
    "    <li>\n",
    "        Over sampling minority class\n",
    "    </li>\n",
    "    <li> Under Sampling majority class </li>\n",
    "    <li> Synthetic Minority Oversampling Technique SMOTE</li>\n",
    "<ul>\n",
    "       \n",
    "\n",
    "       "
   ]
  },
  {
   "cell_type": "markdown",
   "metadata": {},
   "source": [
    "Visualizing the data to see how the data is distributed. We can get a better understanding if we project the 3D data onto a plane like by using PCA"
   ]
  },
  {
   "cell_type": "code",
   "execution_count": 827,
   "metadata": {},
   "outputs": [
    {
     "data": {
      "image/png": "[encoded data removed]",
      "text/plain": [
       "<Figure size 864x576 with 1 Axes>"
      ]
     },
     "metadata": {},
     "output_type": "display_data"
    }
   ],
   "source": [
    "# This import registers the 3D projection, but is otherwise unused.\n",
    "from mpl_toolkits.mplot3d import Axes3D  # noqa: F401 unused import\n",
    "\n",
    "data = pd.read_csv(\"Survival.csv\")\n",
    "\n",
    "fig = plt.figure(figsize = (12, 8))\n",
    "\n",
    "ax = fig.add_subplot(111, projection='3d')\n",
    "axis = 0\n",
    "for x in range(len(data)):\n",
    "    if(data[\"Class\"][x] == 1):\n",
    "        ax.scatter(data[\"Age\"][x], data[\"Year\"][x], data[\"NNodes\"][x],marker='o',c='r')\n",
    "    else:\n",
    "        ax.scatter(data[\"Age\"][x], data[\"Year\"][x], data[\"NNodes\"][x],marker='^',c='b')\n",
    "ax.set_xlabel('X Label')\n",
    "ax.set_ylabel('Y Label')\n",
    "ax.set_zlabel('Z Label')\n",
    "\n",
    "plt.show()\n"
   ]
  },
  {
   "cell_type": "markdown",
   "metadata": {},
   "source": [
    "container for storing metrics"
   ]
  },
  {
   "cell_type": "code",
   "execution_count": 828,
   "metadata": {},
   "outputs": [],
   "source": [
    "resampling_data = {'models': [],\n",
    "                   'f1-normal':[],\n",
    "            'f1-oversample': [],\n",
    "            'f1-undersample':[],\n",
    "            'f1-smote':[]           \n",
    "             }"
   ]
  },
  {
   "cell_type": "markdown",
   "metadata": {},
   "source": [
    "# Oversample minority class"
   ]
  },
  {
   "cell_type": "markdown",
   "metadata": {},
   "source": [
    "In this strategy we try to increase the number of samples of the minority class. This way both the classes will have same number of data. For the scikit implimentation it basically replicates some of the data in minority class. Since the data is just a copy it may not always provide better perfomance\n"
   ]
  },
  {
   "cell_type": "code",
   "execution_count": 829,
   "metadata": {},
   "outputs": [],
   "source": [
    "from sklearn.utils import resample\n",
    "df = pd.read_csv('survival.csv')\n",
    "\n",
    "df['Survived'] = 1\n",
    "df.loc[df['Class']==2,'Survived']=0\n",
    "# Class attribute is now redundant therefore removing it\n",
    "df.pop('Class')\n",
    "\n",
    "# Seperating to target value\n",
    "y = df['Survived']\n",
    "\n",
    "# Training input dataframe\n",
    "X = df\n",
    "X = df.drop('Survived', axis=1)\n",
    "\n"
   ]
  },
  {
   "cell_type": "markdown",
   "metadata": {},
   "source": [
    "<blockquote>\n",
    "Note:\n",
    "In this strategy we always oversample the data after doing the test-train split other wise the test set can also have same data from train data leaing to overfitting of data\n",
    "\n",
    "</blockquote>\n",
    "\n"
   ]
  },
  {
   "cell_type": "code",
   "execution_count": 830,
   "metadata": {},
   "outputs": [],
   "source": [
    "X_train, X_test, y_train, y_test = train_test_split(X, y, test_size=0.5, random_state=42,stratify=y)\n"
   ]
  },
  {
   "cell_type": "code",
   "execution_count": 831,
   "metadata": {},
   "outputs": [],
   "source": [
    "# concatenate our training data back together\n",
    "X = pd.concat([pd.DataFrame(X_train),pd.DataFrame(y_train)], axis=1)"
   ]
  },
  {
   "cell_type": "code",
   "execution_count": 832,
   "metadata": {},
   "outputs": [],
   "source": [
    "# separate minority and majority classes\n",
    "minority = X[X.Survived==0]\n",
    "majority = X[X.Survived==1]"
   ]
  },
  {
   "cell_type": "code",
   "execution_count": 833,
   "metadata": {},
   "outputs": [],
   "source": [
    "# upsample minority\n",
    "minority_upsampled = resample(minority,\n",
    "                          replace=True, # sample with replacement\n",
    "                          n_samples=len(majority), # match number in majority class\n",
    "                          random_state=42) # reproducible results\n",
    "\n",
    "# combine majority and upsampled minority\n",
    "upsampled = pd.concat([majority, minority_upsampled])\n"
   ]
  },
  {
   "cell_type": "code",
   "execution_count": 834,
   "metadata": {},
   "outputs": [
    {
     "data": {
      "text/plain": [
       "1    113\n",
       "0    113\n",
       "Name: Survived, dtype: int64"
      ]
     },
     "execution_count": 834,
     "metadata": {},
     "output_type": "execute_result"
    }
   ],
   "source": [
    "# check new class counts\n",
    "upsampled.Survived.value_counts()"
   ]
  },
  {
   "cell_type": "markdown",
   "metadata": {},
   "source": [
    "Now we have equal amount"
   ]
  },
  {
   "cell_type": "code",
   "execution_count": 835,
   "metadata": {},
   "outputs": [],
   "source": [
    "y_train = upsampled.Survived\n",
    "X_train = upsampled.drop('Survived', axis=1)\n"
   ]
  },
  {
   "cell_type": "markdown",
   "metadata": {},
   "source": [
    "Iterating through each model with new enhanced dataset"
   ]
  },
  {
   "cell_type": "code",
   "execution_count": 836,
   "metadata": {},
   "outputs": [
    {
     "name": "stdout",
     "output_type": "stream",
     "text": [
      "Accuracy of KNeighborsClassifier is at:  72.55% \n",
      "              precision    recall  f1-score   support\n",
      "\n",
      "           0       0.49      0.41      0.45        41\n",
      "           1       0.80      0.84      0.82       112\n",
      "\n",
      "    accuracy                           0.73       153\n",
      "   macro avg       0.64      0.63      0.63       153\n",
      "weighted avg       0.71      0.73      0.72       153\n",
      "\n",
      "---------\n",
      "Accuracy of LogisticRegression is at:  73.20% \n",
      "              precision    recall  f1-score   support\n",
      "\n",
      "           0       0.50      0.39      0.44        41\n",
      "           1       0.79      0.86      0.82       112\n",
      "\n",
      "    accuracy                           0.73       153\n",
      "   macro avg       0.65      0.62      0.63       153\n",
      "weighted avg       0.71      0.73      0.72       153\n",
      "\n",
      "---------\n",
      "Accuracy of GradientBoostingClassifier is at:  69.93% \n",
      "              precision    recall  f1-score   support\n",
      "\n",
      "           0       0.43      0.37      0.39        41\n",
      "           1       0.78      0.82      0.80       112\n",
      "\n",
      "    accuracy                           0.70       153\n",
      "   macro avg       0.60      0.59      0.60       153\n",
      "weighted avg       0.69      0.70      0.69       153\n",
      "\n",
      "---------\n",
      "Accuracy of DecisionTreeClassifier is at:  67.97% \n",
      "              precision    recall  f1-score   support\n",
      "\n",
      "           0       0.38      0.29      0.33        41\n",
      "           1       0.76      0.82      0.79       112\n",
      "\n",
      "    accuracy                           0.68       153\n",
      "   macro avg       0.57      0.56      0.56       153\n",
      "weighted avg       0.66      0.68      0.67       153\n",
      "\n",
      "---------\n"
     ]
    }
   ],
   "source": [
    "kNN = KNeighborsClassifier(n_neighbors=3)\n",
    "Lregr = LogisticRegression(random_state=0)\n",
    "gboost = GradientBoostingClassifier(random_state=0)\n",
    "dtree = DecisionTreeClassifier(criterion='entropy')\n",
    "\n",
    "\n",
    "# Define the classifier\n",
    "classifier = [kNN,Lregr,gboost,dtree]\n",
    "\n",
    "# KFold cross validation\n",
    "\n",
    "for classifier in classifier:\n",
    "    upsampled_pred = classifier.fit(X_train, y_train).predict(X_test)\n",
    "    print(f'Accuracy of {type(classifier).__name__} is at:  {accuracy_score(upsampled_pred, y_test)*100:.2f}% ')\n",
    "    print(classification_report(y_test, upsampled_pred))\n",
    "    print(\"---------\")\n",
    "    \n",
    "    resampling_data[\"models\"].append(type(classifier).__name__)\n",
    "    resampling_data[\"f1-oversample\"].append(f1_score(y_test, upsampled_pred, pos_label=0))\n",
    "    "
   ]
  },
  {
   "cell_type": "markdown",
   "metadata": {},
   "source": [
    "# Resampling techniques — Undersample majority class"
   ]
  },
  {
   "cell_type": "markdown",
   "metadata": {},
   "source": [
    "In this strategy we try to remove observations from the majority class. This way both the classes will have same number of data. This has a major drawback as we may be removing data which is imporatant and model may underfit as a result.\n",
    "Again scikit learns resample method is used to make majority and minority to be same"
   ]
  },
  {
   "cell_type": "code",
   "execution_count": 837,
   "metadata": {},
   "outputs": [
    {
     "data": {
      "text/plain": [
       "1    40\n",
       "0    40\n",
       "Name: Survived, dtype: int64"
      ]
     },
     "execution_count": 837,
     "metadata": {},
     "output_type": "execute_result"
    }
   ],
   "source": [
    "majority_downsampled = resample(majority,\n",
    "                                replace = False, # sample without replacement\n",
    "                                n_samples = len(minority), # match minority n\n",
    "                                random_state = 42) # reproducible results\n",
    "\n",
    "# combine minority and downsampled majority\n",
    "downsampled = pd.concat([majority_downsampled, minority])\n",
    "\n",
    "# checking counts\n",
    "downsampled.Survived.value_counts()"
   ]
  },
  {
   "cell_type": "markdown",
   "metadata": {},
   "source": [
    "We see a significant decrease in train data size"
   ]
  },
  {
   "cell_type": "code",
   "execution_count": 838,
   "metadata": {},
   "outputs": [
    {
     "data": {
      "text/plain": [
       "1    40\n",
       "0    40\n",
       "Name: Survived, dtype: int64"
      ]
     },
     "execution_count": 838,
     "metadata": {},
     "output_type": "execute_result"
    }
   ],
   "source": [
    "\n",
    "# checking counts\n",
    "downsampled.Survived.value_counts()"
   ]
  },
  {
   "cell_type": "code",
   "execution_count": 839,
   "metadata": {},
   "outputs": [
    {
     "name": "stdout",
     "output_type": "stream",
     "text": [
      "Accuracy of KNeighborsClassifier is at:  67.97% \n",
      "              precision    recall  f1-score   support\n",
      "\n",
      "           0       0.43      0.59      0.49        41\n",
      "           1       0.82      0.71      0.77       112\n",
      "\n",
      "    accuracy                           0.68       153\n",
      "   macro avg       0.63      0.65      0.63       153\n",
      "weighted avg       0.72      0.68      0.69       153\n",
      "\n",
      "---------\n",
      "Accuracy of LogisticRegression is at:  75.16% \n",
      "              precision    recall  f1-score   support\n",
      "\n",
      "           0       0.54      0.51      0.53        41\n",
      "           1       0.82      0.84      0.83       112\n",
      "\n",
      "    accuracy                           0.75       153\n",
      "   macro avg       0.68      0.68      0.68       153\n",
      "weighted avg       0.75      0.75      0.75       153\n",
      "\n",
      "---------\n",
      "Accuracy of GradientBoostingClassifier is at:  60.13% \n",
      "              precision    recall  f1-score   support\n",
      "\n",
      "           0       0.36      0.63      0.46        41\n",
      "           1       0.81      0.59      0.68       112\n",
      "\n",
      "    accuracy                           0.60       153\n",
      "   macro avg       0.59      0.61      0.57       153\n",
      "weighted avg       0.69      0.60      0.62       153\n",
      "\n",
      "---------\n",
      "Accuracy of DecisionTreeClassifier is at:  62.09% \n",
      "              precision    recall  f1-score   support\n",
      "\n",
      "           0       0.37      0.59      0.45        41\n",
      "           1       0.81      0.63      0.71       112\n",
      "\n",
      "    accuracy                           0.62       153\n",
      "   macro avg       0.59      0.61      0.58       153\n",
      "weighted avg       0.69      0.62      0.64       153\n",
      "\n",
      "---------\n"
     ]
    }
   ],
   "source": [
    "y_train = downsampled.Survived\n",
    "X_train = downsampled.drop('Survived', axis=1)\n",
    "\n",
    "kNN = KNeighborsClassifier(n_neighbors=3)\n",
    "Lregr = LogisticRegression(random_state=0)\n",
    "gboost = GradientBoostingClassifier(random_state=0)\n",
    "dtree = DecisionTreeClassifier(criterion='entropy')\n",
    "\n",
    "\n",
    "# Define the classifier\n",
    "classifier = [kNN,Lregr,gboost,dtree]\n",
    "\n",
    "for classifier in classifier:\n",
    "    undersampled_pred = classifier.fit(X_train, y_train).predict(X_test)\n",
    "    print(f'Accuracy of {type(classifier).__name__} is at:  {accuracy_score(undersampled_pred, y_test)*100:.2f}% ')\n",
    "    print(classification_report(y_test, undersampled_pred))\n",
    "    print(\"---------\")\n",
    "    \n",
    "#     resampling_data[\"models\"].append(type(classifier).__name__)\n",
    "    resampling_data[\"f1-undersample\"].append(f1_score(y_test, undersampled_pred, pos_label=0))"
   ]
  },
  {
   "cell_type": "markdown",
   "metadata": {},
   "source": [
    "# SMOTE"
   ]
  },
  {
   "cell_type": "markdown",
   "metadata": {},
   "source": [
    "SMOTE stands for Synthetic Minority Oversampling. The basic idea is that if there are two points belonging to same class in a dimension space then its safe to assume that there are data points inbetween that belong to same class. SMOTE uses this concept of nearest neighnours to artificaially create new data points."
   ]
  },
  {
   "cell_type": "code",
   "execution_count": 840,
   "metadata": {},
   "outputs": [],
   "source": [
    "from imblearn import under_sampling, over_sampling\n",
    "from imblearn.over_sampling import SMOTE\n",
    "# Separate input features and target\n",
    "y = df.Survived\n",
    "X = df.drop('Survived', axis=1)\n",
    "\n",
    "# setting up testing and training sets\n",
    "X_train, X_test, y_train, y_test = train_test_split(X, y, test_size=0.5, random_state=42)\n",
    "\n",
    "sm = SMOTE(random_state=42, sampling_strategy=1.0)\n",
    "X_train, y_train = sm.fit_sample(X_train, y_train)"
   ]
  },
  {
   "cell_type": "markdown",
   "metadata": {},
   "source": [
    "So We only do smote on training data Since we did a .5 split it means we are left with 153 data points(306/2). Initially we has 108 data points in majority and 45 data points in minority. After smote the number becomes 108 each"
   ]
  },
  {
   "cell_type": "code",
   "execution_count": 841,
   "metadata": {},
   "outputs": [
    {
     "data": {
      "text/plain": [
       "Counter({1: 108, 0: 108})"
      ]
     },
     "execution_count": 841,
     "metadata": {},
     "output_type": "execute_result"
    }
   ],
   "source": [
    "Counter(y_train)"
   ]
  },
  {
   "cell_type": "code",
   "execution_count": 842,
   "metadata": {},
   "outputs": [
    {
     "name": "stdout",
     "output_type": "stream",
     "text": [
      "Accuracy of KNeighborsClassifier is at:  65.36% \n",
      "              precision    recall  f1-score   support\n",
      "\n",
      "           0       0.33      0.44      0.38        36\n",
      "           1       0.81      0.72      0.76       117\n",
      "\n",
      "    accuracy                           0.65       153\n",
      "   macro avg       0.57      0.58      0.57       153\n",
      "weighted avg       0.69      0.65      0.67       153\n",
      "\n",
      "---------\n",
      "Accuracy of LogisticRegression is at:  67.32% \n",
      "              precision    recall  f1-score   support\n",
      "\n",
      "           0       0.38      0.61      0.47        36\n",
      "           1       0.85      0.69      0.76       117\n",
      "\n",
      "    accuracy                           0.67       153\n",
      "   macro avg       0.62      0.65      0.62       153\n",
      "weighted avg       0.74      0.67      0.69       153\n",
      "\n",
      "---------\n",
      "Accuracy of GradientBoostingClassifier is at:  63.40% \n",
      "              precision    recall  f1-score   support\n",
      "\n",
      "           0       0.34      0.58      0.43        36\n",
      "           1       0.84      0.65      0.73       117\n",
      "\n",
      "    accuracy                           0.63       153\n",
      "   macro avg       0.59      0.62      0.58       153\n",
      "weighted avg       0.72      0.63      0.66       153\n",
      "\n",
      "---------\n",
      "Accuracy of DecisionTreeClassifier is at:  64.71% \n",
      "              precision    recall  f1-score   support\n",
      "\n",
      "           0       0.31      0.42      0.36        36\n",
      "           1       0.80      0.72      0.76       117\n",
      "\n",
      "    accuracy                           0.65       153\n",
      "   macro avg       0.56      0.57      0.56       153\n",
      "weighted avg       0.69      0.65      0.66       153\n",
      "\n",
      "---------\n"
     ]
    }
   ],
   "source": [
    "kNN = KNeighborsClassifier(n_neighbors=3)\n",
    "Lregr = LogisticRegression(random_state=0)\n",
    "gboost = GradientBoostingClassifier(random_state=0)\n",
    "dtree = DecisionTreeClassifier(criterion='entropy')\n",
    "\n",
    "\n",
    "# Define the classifier\n",
    "classifier = [kNN,Lregr,gboost,dtree]\n",
    "\n",
    "for classifier in classifier:\n",
    "    smote = classifier.fit(X_train, y_train)\n",
    "    smote_pred = smote.predict(X_test)\n",
    "    print(f'Accuracy of {type(classifier).__name__} is at:  {accuracy_score(smote_pred, y_test)*100:.2f}% ')\n",
    "    print(classification_report(y_test, smote_pred))\n",
    "    print(\"---------\")\n",
    "#     resampling_data[\"models\"].append(type(classifier).__name__)\n",
    "    resampling_data[\"f1-smote\"].append(f1_score(y_test, smote_pred, pos_label=0))"
   ]
  },
  {
   "cell_type": "markdown",
   "metadata": {},
   "source": [
    "# Results\n",
    "\n",
    "Lets now look at the f1 scores of each model for the minority class. f1-normal is the original f1 values for hold-out.\n",
    "\n",
    "<blockquote> Note:<br>We are using the F1 score for the <b>Minority class</b> and not the average F1 of model </blockquote>\n",
    "    \n"
   ]
  },
  {
   "cell_type": "code",
   "execution_count": 843,
   "metadata": {},
   "outputs": [],
   "source": [
    "resampling_data[\"f1-normal\"]=f1_scores[f1_scores[\"hue_factor\"]==0][\"f1\"]"
   ]
  },
  {
   "cell_type": "code",
   "execution_count": 844,
   "metadata": {},
   "outputs": [],
   "source": [
    "resampling_data = pd.DataFrame(resampling_data, columns = ['models','f1-normal','f1-oversample','f1-undersample','f1-smote'])"
   ]
  },
  {
   "cell_type": "code",
   "execution_count": 862,
   "metadata": {},
   "outputs": [
    {
     "data": {
      "text/html": [
       "<div>\n",
       "<style scoped>\n",
       "    .dataframe tbody tr th:only-of-type {\n",
       "        vertical-align: middle;\n",
       "    }\n",
       "\n",
       "    .dataframe tbody tr th {\n",
       "        vertical-align: top;\n",
       "    }\n",
       "\n",
       "    .dataframe thead th {\n",
       "        text-align: right;\n",
       "    }\n",
       "</style>\n",
       "<table border=\"1\" class=\"dataframe\">\n",
       "  <thead>\n",
       "    <tr style=\"text-align: right;\">\n",
       "      <th></th>\n",
       "      <th>f1-normal</th>\n",
       "      <th>f1-oversample</th>\n",
       "      <th>f1-undersample</th>\n",
       "      <th>f1-smote</th>\n",
       "    </tr>\n",
       "    <tr>\n",
       "      <th>models</th>\n",
       "      <th></th>\n",
       "      <th></th>\n",
       "      <th></th>\n",
       "      <th></th>\n",
       "    </tr>\n",
       "  </thead>\n",
       "  <tbody>\n",
       "    <tr>\n",
       "      <th>KNeighborsClassifier</th>\n",
       "      <td>0.426230</td>\n",
       "      <td>0.447368</td>\n",
       "      <td>0.494845</td>\n",
       "      <td>0.376471</td>\n",
       "    </tr>\n",
       "    <tr>\n",
       "      <th>LogisticRegression</th>\n",
       "      <td>0.320988</td>\n",
       "      <td>0.438356</td>\n",
       "      <td>0.525000</td>\n",
       "      <td>0.468085</td>\n",
       "    </tr>\n",
       "    <tr>\n",
       "      <th>GradientBoostingClassifier</th>\n",
       "      <td>0.260870</td>\n",
       "      <td>0.394737</td>\n",
       "      <td>0.460177</td>\n",
       "      <td>0.428571</td>\n",
       "    </tr>\n",
       "    <tr>\n",
       "      <th>DecisionTreeClassifier</th>\n",
       "      <td>0.361111</td>\n",
       "      <td>0.328767</td>\n",
       "      <td>0.452830</td>\n",
       "      <td>0.357143</td>\n",
       "    </tr>\n",
       "  </tbody>\n",
       "</table>\n",
       "</div>"
      ],
      "text/plain": [
       "                            f1-normal  f1-oversample  f1-undersample  f1-smote\n",
       "models                                                                        \n",
       "KNeighborsClassifier         0.426230       0.447368        0.494845  0.376471\n",
       "LogisticRegression           0.320988       0.438356        0.525000  0.468085\n",
       "GradientBoostingClassifier   0.260870       0.394737        0.460177  0.428571\n",
       "DecisionTreeClassifier       0.361111       0.328767        0.452830  0.357143"
      ]
     },
     "execution_count": 862,
     "metadata": {},
     "output_type": "execute_result"
    }
   ],
   "source": [
    "resampling_data.set_index(['models'])"
   ]
  },
  {
   "cell_type": "markdown",
   "metadata": {},
   "source": [
    "# Observation\n",
    "<ul>\n",
    "<li>f1-normal is the normal holdout results. From the above table we can see that oversampling, undersampling and smote improved the f1 are slightly higher than normal implimentation. Indicating that the data augmentation has improved the minority class predition by atleast a small amount.</li>\n",
    "    <li>Contrary to my expectation the sampling technique that detects the minority class the best is <b>Undersampling</b> of majority data</li>\n",
    "    "
   ]
  },
  {
   "cell_type": "markdown",
   "metadata": {},
   "source": [
    "# Part 3\n",
    "## Objective\n",
    "Try SMOTE sampling technique on UCI breast-w dataset from Wisconsin hospital and see if it improves the perfomance of the model"
   ]
  },
  {
   "cell_type": "code",
   "execution_count": 867,
   "metadata": {},
   "outputs": [],
   "source": [
    "dd = pd.read_csv(\"breast-w_csv.csv\")"
   ]
  },
  {
   "cell_type": "code",
   "execution_count": 868,
   "metadata": {},
   "outputs": [
    {
     "data": {
      "text/plain": [
       "Counter({'benign': 458, 'malignant': 241})"
      ]
     },
     "execution_count": 868,
     "metadata": {},
     "output_type": "execute_result"
    }
   ],
   "source": [
    "Counter(dd.Class)"
   ]
  },
  {
   "cell_type": "code",
   "execution_count": 869,
   "metadata": {
    "scrolled": true
   },
   "outputs": [
    {
     "name": "stdout",
     "output_type": "stream",
     "text": [
      "benign       458\n",
      "malignant    241\n",
      "Name: Class, dtype: int64\n"
     ]
    },
    {
     "data": {
      "image/png": "[encoded data removed]",
      "text/plain": [
       "<Figure size 576x432 with 1 Axes>"
      ]
     },
     "metadata": {},
     "output_type": "display_data"
    }
   ],
   "source": [
    "print(dd['Class'].value_counts())\n",
    "dd['Class'].value_counts().plot(kind='bar', figsize=(8,6),title=\"Target Value imbalance check.The minority class is only %0.2f percent of data\"%(Counter(dd[\"Class\"])[1]/len(dd)*100),fontsize=15)\n",
    "plt.grid(b=True, which='major', color='#666666', linestyle='-')\n",
    "plt.minorticks_on()\n",
    "plt.grid(b=True, which='minor', color='#999999', linestyle='-', alpha=0.2)\n",
    "\n"
   ]
  },
  {
   "cell_type": "markdown",
   "metadata": {},
   "source": [
    "### Observation\n",
    "We see that the dataset is also imbalanced"
   ]
  },
  {
   "cell_type": "code",
   "execution_count": 870,
   "metadata": {},
   "outputs": [],
   "source": [
    "# removing null values\n",
    "dd=dd.dropna()"
   ]
  },
  {
   "cell_type": "code",
   "execution_count": 871,
   "metadata": {},
   "outputs": [
    {
     "data": {
      "text/html": [
       "<div>\n",
       "<style scoped>\n",
       "    .dataframe tbody tr th:only-of-type {\n",
       "        vertical-align: middle;\n",
       "    }\n",
       "\n",
       "    .dataframe tbody tr th {\n",
       "        vertical-align: top;\n",
       "    }\n",
       "\n",
       "    .dataframe thead th {\n",
       "        text-align: right;\n",
       "    }\n",
       "</style>\n",
       "<table border=\"1\" class=\"dataframe\">\n",
       "  <thead>\n",
       "    <tr style=\"text-align: right;\">\n",
       "      <th></th>\n",
       "      <th>Clump_Thickness</th>\n",
       "      <th>Cell_Size_Uniformity</th>\n",
       "      <th>Cell_Shape_Uniformity</th>\n",
       "      <th>Marginal_Adhesion</th>\n",
       "      <th>Single_Epi_Cell_Size</th>\n",
       "      <th>Bare_Nuclei</th>\n",
       "      <th>Bland_Chromatin</th>\n",
       "      <th>Normal_Nucleoli</th>\n",
       "      <th>Mitoses</th>\n",
       "      <th>Class</th>\n",
       "      <th>target</th>\n",
       "    </tr>\n",
       "  </thead>\n",
       "  <tbody>\n",
       "    <tr>\n",
       "      <th>0</th>\n",
       "      <td>5</td>\n",
       "      <td>1</td>\n",
       "      <td>1</td>\n",
       "      <td>1</td>\n",
       "      <td>2</td>\n",
       "      <td>1.0</td>\n",
       "      <td>3</td>\n",
       "      <td>1</td>\n",
       "      <td>1</td>\n",
       "      <td>benign</td>\n",
       "      <td>0</td>\n",
       "    </tr>\n",
       "    <tr>\n",
       "      <th>1</th>\n",
       "      <td>5</td>\n",
       "      <td>4</td>\n",
       "      <td>4</td>\n",
       "      <td>5</td>\n",
       "      <td>7</td>\n",
       "      <td>10.0</td>\n",
       "      <td>3</td>\n",
       "      <td>2</td>\n",
       "      <td>1</td>\n",
       "      <td>benign</td>\n",
       "      <td>0</td>\n",
       "    </tr>\n",
       "    <tr>\n",
       "      <th>2</th>\n",
       "      <td>3</td>\n",
       "      <td>1</td>\n",
       "      <td>1</td>\n",
       "      <td>1</td>\n",
       "      <td>2</td>\n",
       "      <td>2.0</td>\n",
       "      <td>3</td>\n",
       "      <td>1</td>\n",
       "      <td>1</td>\n",
       "      <td>benign</td>\n",
       "      <td>0</td>\n",
       "    </tr>\n",
       "    <tr>\n",
       "      <th>3</th>\n",
       "      <td>6</td>\n",
       "      <td>8</td>\n",
       "      <td>8</td>\n",
       "      <td>1</td>\n",
       "      <td>3</td>\n",
       "      <td>4.0</td>\n",
       "      <td>3</td>\n",
       "      <td>7</td>\n",
       "      <td>1</td>\n",
       "      <td>benign</td>\n",
       "      <td>0</td>\n",
       "    </tr>\n",
       "    <tr>\n",
       "      <th>4</th>\n",
       "      <td>4</td>\n",
       "      <td>1</td>\n",
       "      <td>1</td>\n",
       "      <td>3</td>\n",
       "      <td>2</td>\n",
       "      <td>1.0</td>\n",
       "      <td>3</td>\n",
       "      <td>1</td>\n",
       "      <td>1</td>\n",
       "      <td>benign</td>\n",
       "      <td>0</td>\n",
       "    </tr>\n",
       "  </tbody>\n",
       "</table>\n",
       "</div>"
      ],
      "text/plain": [
       "   Clump_Thickness  Cell_Size_Uniformity  Cell_Shape_Uniformity  \\\n",
       "0                5                     1                      1   \n",
       "1                5                     4                      4   \n",
       "2                3                     1                      1   \n",
       "3                6                     8                      8   \n",
       "4                4                     1                      1   \n",
       "\n",
       "   Marginal_Adhesion  Single_Epi_Cell_Size  Bare_Nuclei  Bland_Chromatin  \\\n",
       "0                  1                     2          1.0                3   \n",
       "1                  5                     7         10.0                3   \n",
       "2                  1                     2          2.0                3   \n",
       "3                  1                     3          4.0                3   \n",
       "4                  3                     2          1.0                3   \n",
       "\n",
       "   Normal_Nucleoli  Mitoses   Class  target  \n",
       "0                1        1  benign       0  \n",
       "1                2        1  benign       0  \n",
       "2                1        1  benign       0  \n",
       "3                7        1  benign       0  \n",
       "4                1        1  benign       0  "
      ]
     },
     "execution_count": 871,
     "metadata": {},
     "output_type": "execute_result"
    }
   ],
   "source": [
    "# Creating target values\n",
    "dd['target'] = 0\n",
    "dd.loc[dd['Class']== \"malignant\",'target']=1\n",
    "dd.head()"
   ]
  },
  {
   "cell_type": "code",
   "execution_count": 872,
   "metadata": {},
   "outputs": [],
   "source": [
    "\n",
    "# Seperating to target value\n",
    "y = dd.pop('target').values\n",
    "# Class attribute is now redundant therefore removing it\n",
    "dd.pop('Class')\n",
    "# Training input dataframe\n",
    "X = dd.values"
   ]
  },
  {
   "cell_type": "markdown",
   "metadata": {},
   "source": [
    "Here we will use KNN and see the initial results. Then do the same with SMOTE data"
   ]
  },
  {
   "cell_type": "code",
   "execution_count": 873,
   "metadata": {},
   "outputs": [
    {
     "name": "stdout",
     "output_type": "stream",
     "text": [
      "Accuracy of KNN is at:  95.32% \n"
     ]
    }
   ],
   "source": [
    "kNN = KNeighborsClassifier(n_neighbors=3)\n",
    "\n",
    "X_train, X_test, y_train, y_test = train_test_split(X, y, test_size = 1/2, random_state=42)\n",
    "y_pred = kNN.fit(X_train, y_train).predict(X_test)\n",
    "print(f'Accuracy of KNN is at:  {accuracy_score(y_pred, y_test)*100:.2f}% ')\n",
    "\n",
    "pred_neg = Counter(y_pred)[1]\n",
    "test_neg = Counter(y_test)[1]\n"
   ]
  },
  {
   "cell_type": "code",
   "execution_count": 874,
   "metadata": {
    "scrolled": true
   },
   "outputs": [
    {
     "name": "stdout",
     "output_type": "stream",
     "text": [
      "Report:\n",
      "              precision    recall  f1-score   support\n",
      "\n",
      "           0       0.94      0.99      0.96       218\n",
      "           1       0.98      0.89      0.93       124\n",
      "\n",
      "    accuracy                           0.95       342\n",
      "   macro avg       0.96      0.94      0.95       342\n",
      "weighted avg       0.95      0.95      0.95       342\n",
      "\n"
     ]
    }
   ],
   "source": [
    "report = classification_report(y_test, y_pred)\n",
    "print(\"Report:\\n{}\".format(report))"
   ]
  },
  {
   "cell_type": "markdown",
   "metadata": {},
   "source": [
    "### Observation\n",
    "The model seems to fit well even before we did SMOTE however if we look the recall of minority class which is the 'malignant' tumor labeled 1 we see a recall of .89 indicating that there is some difficulty for model to predict minority class so we will apply SMOTE now"
   ]
  },
  {
   "cell_type": "code",
   "execution_count": 877,
   "metadata": {},
   "outputs": [],
   "source": [
    "\n",
    "sm = SMOTE(random_state=42, sampling_strategy=1.0)\n",
    "X_train, y_train = sm.fit_sample(X_train, y_train)"
   ]
  },
  {
   "cell_type": "markdown",
   "metadata": {},
   "source": [
    "With Smote we created equal number of minority and majority class by artifically generating minority class"
   ]
  },
  {
   "cell_type": "code",
   "execution_count": 878,
   "metadata": {},
   "outputs": [
    {
     "data": {
      "text/plain": [
       "Counter({0: 226, 1: 226})"
      ]
     },
     "execution_count": 878,
     "metadata": {},
     "output_type": "execute_result"
    }
   ],
   "source": [
    "Counter(y_train)"
   ]
  },
  {
   "cell_type": "code",
   "execution_count": 879,
   "metadata": {},
   "outputs": [
    {
     "name": "stdout",
     "output_type": "stream",
     "text": [
      "Accuracy of KNeighborsClassifier is at:  97.08% \n",
      "              precision    recall  f1-score   support\n",
      "\n",
      "           0       0.96      0.99      0.98       218\n",
      "           1       0.98      0.94      0.96       124\n",
      "\n",
      "    accuracy                           0.97       342\n",
      "   macro avg       0.97      0.96      0.97       342\n",
      "weighted avg       0.97      0.97      0.97       342\n",
      "\n",
      "---------\n"
     ]
    }
   ],
   "source": [
    "kNN = KNeighborsClassifier(n_neighbors=3)\n",
    "\n",
    "\n",
    "\n",
    "# Define the classifier\n",
    "classifier = [kNN]\n",
    "\n",
    "for classifier in classifier:\n",
    "    smote = classifier.fit(X_train, y_train)\n",
    "    smote_pred = smote.predict(X_test)\n",
    "    print(f'Accuracy of {type(classifier).__name__} is at:  {accuracy_score(smote_pred, y_test)*100:.2f}% ')\n",
    "    print(classification_report(y_test, smote_pred))\n",
    "    print(\"---------\")"
   ]
  },
  {
   "cell_type": "markdown",
   "metadata": {},
   "source": [
    "### Observation\n",
    "\n",
    "With the new augmented data the recall of the dataset increased from .89 to .94 indicating that the SMOTE can in right circumstances improve perfomance of minority detection."
   ]
  },
  {
   "cell_type": "code",
   "execution_count": null,
   "metadata": {},
   "outputs": [],
   "source": []
  }
 ],
 "metadata": {
  "kernelspec": {
   "display_name": "Python 3",
   "language": "python",
   "name": "python3"
  },
  "language_info": {
   "codemirror_mode": {
    "name": "ipython",
    "version": 3
   },
   "file_extension": ".py",
   "mimetype": "text/x-python",
   "name": "python",
   "nbconvert_exporter": "python",
   "pygments_lexer": "ipython3",
   "version": "3.7.7"
  }
 },
 "nbformat": 4,
 "nbformat_minor": 2
}
